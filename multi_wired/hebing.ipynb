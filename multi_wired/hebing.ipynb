{
 "cells": [
  {
   "cell_type": "code",
   "execution_count": 1,
   "metadata": {
    "collapsed": true,
    "pycharm": {
     "name": "#%%\n"
    },
    "ExecuteTime": {
     "end_time": "2023-10-24T04:36:33.775694700Z",
     "start_time": "2023-10-24T04:36:20.323598400Z"
    }
   },
   "outputs": [
    {
     "name": "stderr",
     "output_type": "stream",
     "text": [
      "2023-10-24 12:36:26,961 - modelscope - INFO - PyTorch version 2.0.1+cu117 Found.\n",
      "2023-10-24 12:36:26,973 - modelscope - INFO - Loading ast index from C:\\Users\\97885\\.cache\\modelscope\\ast_indexer\n",
      "2023-10-24 12:36:27,111 - modelscope - INFO - Loading done! Current index file version is 1.9.3, with md5 b7d914def3ab1151c688f8874c13122f and a total number of 943 components indexed\n",
      "2023-10-24 12:36:30,056 - modelscope - INFO - Model revision not specified, use revision: v0.1\n",
      "2023-10-24 12:36:31,257 - modelscope - INFO - initiate model from C:\\Users\\97885\\.cache\\modelscope\\hub\\damo\\cv_dla34_table-structure-recognition_cycle-centernet\n",
      "2023-10-24 12:36:31,258 - modelscope - INFO - initiate model from location C:\\Users\\97885\\.cache\\modelscope\\hub\\damo\\cv_dla34_table-structure-recognition_cycle-centernet.\n",
      "2023-10-24 12:36:31,273 - modelscope - WARNING - No preprocessor field found in cfg.\n",
      "2023-10-24 12:36:31,274 - modelscope - WARNING - No val key and type key found in preprocessor domain of configuration.json file.\n",
      "2023-10-24 12:36:31,275 - modelscope - WARNING - Cannot find available config to build preprocessor at mode inference, current config: {'model_dir': 'C:\\\\Users\\\\97885\\\\.cache\\\\modelscope\\\\hub\\\\damo\\\\cv_dla34_table-structure-recognition_cycle-centernet'}. trying to build by task and model information.\n",
      "2023-10-24 12:36:31,276 - modelscope - WARNING - Find task: table-recognition, model type: None. Insufficient information to build preprocessor, skip building preprocessor\n",
      "2023-10-24 12:36:31,301 - modelscope - INFO - loading model from C:\\Users\\97885\\.cache\\modelscope\\hub\\damo\\cv_dla34_table-structure-recognition_cycle-centernet\\pytorch_model.pt\n"
     ]
    }
   ],
   "source": [
    "import os\n",
    "import cv2\n",
    "from paddleocr import PPStructure,draw_structure_result,save_structure_res\n",
    "from PIL import Image\n",
    "import save_pic\n",
    "from recognition import recognize\n",
    "# def savePic(a,path):\n",
    "#     for i in range(len(a)):\n",
    "#         if os.path.exists(\"./input_images/\"):\n",
    "#             pass\n",
    "#         else:\n",
    "#              os.mkdir(\"./input_images/\")\n",
    "#         imgPath = \"./input_images/\" + str(i+1) + \".jpg\"  #notes: 图片的扩展名要一致\n",
    "#         im = Image.open(path)\n",
    "#         im = im.crop((a[i][0],a[i][1],a[i][2],a[i][3]))  # 对图片进行切割 im.crop(top_x, top_y, bottom_x, bottom_y)\n",
    "#         im.save(imgPath)\n",
    "\n",
    "def BanMian(img_path,save_folder='./output1'):\n",
    "    table_engine = PPStructure(show_log=True,layout_model_dir='https://paddleocr.bj.bcebos.com/ppstructure/models/layout/picodet_lcnet_x1_0_fgd_layout_table_infer.tar',download=True)\n",
    "\n",
    "    #table_engine = PPStructure(show_log=True,layout_model_dir='https://paddleocr.bj.bcebos.com/ppstructure/models/layout/picodet_lcnet_x1_0_fgd_layout_cdla_infer.tar',download=True)\n",
    "    #table_engine = PPStructure(show_log=True,layout_model_dir='https://paddleocr.bj.bcebos.com/ppstructure/models/layout/picodet_lcnet_x1_0_fgd_layout_infer.tar',download=True)\n",
    "\n",
    "    # save_folder = './output'\n",
    "    # img_path = './origin_img/22.jpg'\n",
    "    img = cv2.imread(img_path)\n",
    "    result = table_engine(img)\n",
    "    save_structure_res(result, save_folder,os.path.basename(img_path).split('.')[0])\n",
    "    # for line in result:\n",
    "    #     line.pop('img')\n",
    "    #     print(line)\n",
    "    a=[]\n",
    "    for res in result:\n",
    "        print(res)\n",
    "        if res['type']== 'text':\n",
    "            a.append(res['bbox'])\n",
    "    # savePic(a,img_path)\n",
    "    # location=save_pic.save(a)\n",
    "    # res=recognize(a)\n",
    "    # dic_txt_loc=[]\n",
    "    # for i in range(len(location)):\n",
    "    #     aa=location[i]\n",
    "    #     txts=res[i]\n",
    "    #     for j in range(len(aa)):\n",
    "    #         dic_txt_loc.append([txts[j],aa[j]])\n",
    "    return a\n",
    "    # return dic_txt_loc"
   ]
  },
  {
   "cell_type": "code",
   "execution_count": 1,
   "outputs": [
    {
     "ename": "NameError",
     "evalue": "name 'python' is not defined",
     "output_type": "error",
     "traceback": [
      "\u001B[1;31m---------------------------------------------------------------------------\u001B[0m",
      "\u001B[1;31mNameError\u001B[0m                                 Traceback (most recent call last)",
      "Cell \u001B[1;32mIn[1], line 1\u001B[0m\n\u001B[1;32m----> 1\u001B[0m \u001B[38;5;28mprint\u001B[39m(\u001B[43mpython\u001B[49m\u001B[38;5;241m.\u001B[39m__version__())\n",
      "\u001B[1;31mNameError\u001B[0m: name 'python' is not defined"
     ]
    }
   ],
   "source": [],
   "metadata": {
    "collapsed": false,
    "ExecuteTime": {
     "end_time": "2023-10-24T04:35:25.351495700Z",
     "start_time": "2023-10-24T04:35:24.203095100Z"
    }
   }
  },
  {
   "cell_type": "code",
   "execution_count": 2,
   "outputs": [],
   "source": [
    "import cv2\n",
    "import os\n",
    "from itertools import product\n",
    "from PIL import Image\n",
    "def remove_shuiyin(file_path):\n",
    "    img = Image.open(file_path)\n",
    "    width, height = img.size\n",
    "    for pos in product(range(width), range(height)):\n",
    "        if sum(img.getpixel(pos)[:3]) > 500:\n",
    "            img.putpixel(pos, (255, 255, 255))\n",
    "    img.save(file_path)"
   ],
   "metadata": {
    "collapsed": false,
    "pycharm": {
     "name": "#%%\n"
    },
    "ExecuteTime": {
     "end_time": "2023-10-24T04:36:48.665844100Z",
     "start_time": "2023-10-24T04:36:48.642840200Z"
    }
   }
  },
  {
   "cell_type": "code",
   "execution_count": 16,
   "outputs": [
    {
     "name": "stdout",
     "output_type": "stream",
     "text": [
      "[2023/10/24 12:40:44] ppocr DEBUG: Namespace(alpha=1.0, benchmark=False, beta=1.0, cls_batch_num=6, cls_image_shape='3, 48, 192', cls_model_dir=None, cls_thresh=0.9, cpu_threads=10, crop_res_save_dir='./output', det=True, det_algorithm='DB', det_box_type='quad', det_db_box_thresh=0.6, det_db_score_mode='fast', det_db_thresh=0.3, det_db_unclip_ratio=1.5, det_east_cover_thresh=0.1, det_east_nms_thresh=0.2, det_east_score_thresh=0.8, det_limit_side_len=960, det_limit_type='max', det_model_dir='C:\\\\Users\\\\97885/.paddleocr/whl\\\\det\\\\ch\\\\ch_PP-OCRv3_det_infer', det_pse_box_thresh=0.85, det_pse_min_area=16, det_pse_scale=1, det_pse_thresh=0, det_sast_nms_thresh=0.2, det_sast_score_thresh=0.5, download=True, draw_img_save_dir='./inference_results', drop_score=0.5, e2e_algorithm='PGNet', e2e_char_dict_path='./ppocr/utils/ic15_dict.txt', e2e_limit_side_len=768, e2e_limit_type='max', e2e_model_dir=None, e2e_pgnet_mode='fast', e2e_pgnet_score_thresh=0.5, e2e_pgnet_valid_set='totaltext', enable_mkldnn=False, fourier_degree=5, gpu_mem=500, help='==SUPPRESS==', image_dir=None, image_orientation=False, ir_optim=True, kie_algorithm='LayoutXLM', label_list=['0', '180'], lang='ch', layout=True, layout_dict_path='c:\\\\Users\\\\97885\\\\anaconda3\\\\envs\\\\python3.8\\\\lib\\\\site-packages\\\\paddleocr\\\\ppocr\\\\utils\\\\dict\\\\layout_dict\\\\layout_cdla_dict.txt', layout_model_dir='C:\\\\Users\\\\97885/.paddleocr/whl\\\\layout\\\\picodet_lcnet_x1_0_fgd_layout_table_infer', layout_nms_threshold=0.5, layout_score_threshold=0.5, max_batch_size=10, max_text_length=25, merge_no_span_structure=True, min_subgraph_size=15, mode='structure', ocr=True, ocr_order_method=None, ocr_version='PP-OCRv3', output='./output', page_num=0, precision='fp32', process_id=0, re_model_dir=None, rec=True, rec_algorithm='SVTR_LCNet', rec_batch_num=6, rec_char_dict_path='c:\\\\Users\\\\97885\\\\anaconda3\\\\envs\\\\python3.8\\\\lib\\\\site-packages\\\\paddleocr\\\\ppocr\\\\utils\\\\ppocr_keys_v1.txt', rec_image_inverse=True, rec_image_shape='3, 48, 320', rec_model_dir='C:\\\\Users\\\\97885/.paddleocr/whl\\\\rec\\\\ch\\\\ch_PP-OCRv3_rec_infer', recovery=False, save_crop_res=False, save_log_path='./log_output/', scales=[8, 16, 32], ser_dict_path='../train_data/XFUND/class_list_xfun.txt', ser_model_dir=None, show_log=True, sr_batch_num=1, sr_image_shape='3, 32, 128', sr_model_dir=None, structure_version='PP-StructureV2', table=True, table_algorithm='TableAttn', table_char_dict_path='c:\\\\Users\\\\97885\\\\anaconda3\\\\envs\\\\python3.8\\\\lib\\\\site-packages\\\\paddleocr\\\\ppocr\\\\utils\\\\dict\\\\table_structure_dict_ch.txt', table_max_len=488, table_model_dir='C:\\\\Users\\\\97885/.paddleocr/whl\\\\table\\\\ch_ppstructure_mobile_v2.0_SLANet_infer', total_process_num=1, type='ocr', use_angle_cls=False, use_dilation=False, use_gpu=False, use_mp=False, use_npu=False, use_onnx=False, use_pdf2docx_api=False, use_pdserving=False, use_space_char=True, use_tensorrt=False, use_visual_backbone=True, use_xpu=False, vis_font_path='./doc/fonts/simfang.ttf', warmup=False)\n",
      "[2023/10/24 12:40:49] ppocr DEBUG: dt_boxes num : 49, elapse : 0.6257057189941406\n",
      "[2023/10/24 12:40:57] ppocr DEBUG: rec_res num  : 49, elapse : 8.533352136611938\n",
      "{'type': 'text', 'bbox': [28, 47, 663, 976], 'img': array([[[255, 255, 255],\n",
      "        [255, 255, 255],\n",
      "        [255, 255, 255],\n",
      "        ...,\n",
      "        [255, 255, 255],\n",
      "        [255, 255, 255],\n",
      "        [255, 255, 255]],\n",
      "\n",
      "       [[255, 255, 255],\n",
      "        [242, 242, 242],\n",
      "        [255, 255, 255],\n",
      "        ...,\n",
      "        [255, 255, 255],\n",
      "        [250, 250, 250],\n",
      "        [255, 255, 255]],\n",
      "\n",
      "       [[249, 249, 249],\n",
      "        [255, 255, 255],\n",
      "        [245, 245, 245],\n",
      "        ...,\n",
      "        [255, 255, 255],\n",
      "        [255, 255, 255],\n",
      "        [228, 228, 228]],\n",
      "\n",
      "       ...,\n",
      "\n",
      "       [[255, 255, 255],\n",
      "        [254, 254, 254],\n",
      "        [  0,   0,   0],\n",
      "        ...,\n",
      "        [255, 255, 255],\n",
      "        [254, 254, 254],\n",
      "        [  0,   0,   0]],\n",
      "\n",
      "       [[255, 255, 255],\n",
      "        [254, 254, 254],\n",
      "        [  0,   0,   0],\n",
      "        ...,\n",
      "        [255, 255, 255],\n",
      "        [254, 254, 254],\n",
      "        [  0,   0,   0]],\n",
      "\n",
      "       [[255, 255, 255],\n",
      "        [254, 254, 254],\n",
      "        [  0,   0,   0],\n",
      "        ...,\n",
      "        [255, 255, 255],\n",
      "        [254, 254, 254],\n",
      "        [  0,   0,   0]]], dtype=uint8), 'res': [{'text': '1) SHIPPER:ABC.', 'confidence': 0.919816255569458, 'text_region': [[36.0, 54.0], [139.0, 54.0], [139.0, 68.0], [36.0, 68.0]]}, {'text': 'IMP & EXP CO. LTD', 'confidence': 0.811083972454071, 'text_region': [[138.0, 52.0], [263.0, 54.0], [263.0, 71.0], [138.0, 69.0]]}, {'text': '10)B/LNO.', 'confidence': 0.9355027675628662, 'text_region': [[499.0, 55.0], [566.0, 55.0], [566.0, 69.0], [499.0, 69.0]]}, {'text': 'No.12O,RENMIN SOUTH ROAD.JISHOU,P.R.C', 'confidence': 0.8641086220741272, 'text_region': [[110.0, 79.0], [382.0, 78.0], [382.0, 92.0], [110.0, 93.0]]}, {'text': '2>CONSIGNEE:XYZ.INTL.INC', 'confidence': 0.8956980109214783, 'text_region': [[36.0, 125.0], [222.0, 126.0], [221.0, 140.0], [36.0, 139.0]]}, {'text': 'COSCO', 'confidence': 0.8987270593643188, 'text_region': [[504.0, 125.0], [566.0, 125.0], [566.0, 139.0], [504.0, 139.0]]}, {'text': 'STORE No.1: BMW STREET,INDUSTRIAL AREA 2.', 'confidence': 0.8948320746421814, 'text_region': [[126.0, 149.0], [397.0, 149.0], [397.0, 162.0], [126.0, 162.0]]}, {'text': '中国远洋运输（集科）总公司', 'confidence': 0.7888665795326233, 'text_region': [[425.0, 146.0], [651.0, 146.0], [651.0, 163.0], [425.0, 163.0]]}, {'text': 'Shar jah UAE', 'confidence': 0.8897358775138855, 'text_region': [[37.0, 173.0], [112.0, 173.0], [112.0, 187.0], [37.0, 187.0]]}, {'text': 'CHINA OCEAN SHIPPINGGROUPCO', 'confidence': 0.945349931716919, 'text_region': [[418.0, 196.0], [651.0, 196.0], [651.0, 209.0], [418.0, 209.0]]}, {'text': '3)MOTIFY PARTY: XYZ.INTL.INC STORE NO.I,', 'confidence': 0.833148181438446, 'text_region': [[37.0, 221.0], [316.0, 221.0], [316.0, 234.0], [37.0, 234.0]]}, {'text': 'EMW STREET', 'confidence': 0.8872567415237427, 'text_region': [[320.0, 222.0], [392.0, 222.0], [392.0, 233.0], [320.0, 233.0]]}, {'text': 'INDUSTRIAI AREA 2. SHARJAH UAE', 'confidence': 0.8873043656349182, 'text_region': [[37.0, 244.0], [239.0, 244.0], [239.0, 257.0], [37.0, 257.0]]}, {'text': 'ORIGINAE', 'confidence': 0.916688084602356, 'text_region': [[581.0, 242.0], [635.0, 242.0], [635.0, 256.0], [581.0, 256.0]]}, {'text': 'RPLACE OF RECEIPT', 'confidence': 0.8887045979499817, 'text_region': [[39.0, 292.0], [160.0, 292.0], [160.0, 306.0], [39.0, 306.0]]}, {'text': '5)OCEAN VESSEL', 'confidence': 0.9412579536437988, 'text_region': [[224.0, 292.0], [320.0, 291.0], [320.0, 305.0], [225.0, 306.0]]}, {'text': 'COMEINED IRAPORI BILL OF LADIIE', 'confidence': 0.860950231552124, 'text_region': [[444.0, 289.0], [624.0, 289.0], [624.0, 302.0], [444.0, 302.0]]}, {'text': 'DUBAI', 'confidence': 0.9966571927070618, 'text_region': [[94.0, 313.0], [143.0, 313.0], [143.0, 331.0], [94.0, 331.0]]}, {'text': 'MAY FLOWER', 'confidence': 0.9388327598571777, 'text_region': [[259.0, 315.0], [329.0, 315.0], [329.0, 329.0], [259.0, 329.0]]}, {'text': '6)VOYAGENO:JS1O01OO1', 'confidence': 0.81787109375, 'text_region': [[36.0, 338.0], [185.0, 338.0], [185.0, 351.0], [36.0, 351.0]]}, {'text': 'TOPORT OF LOABING', 'confidence': 0.8455607295036316, 'text_region': [[225.0, 338.0], [343.0, 339.0], [342.0, 353.0], [224.0, 352.0]]}, {'text': 'GUANGZHOU', 'confidence': 0.892121434211731, 'text_region': [[268.0, 362.0], [348.0, 362.0], [348.0, 376.0], [268.0, 376.0]]}, {'text': '8)PORT OF DISCHARGE', 'confidence': 0.9158250093460083, 'text_region': [[36.0, 385.0], [165.0, 385.0], [165.0, 399.0], [36.0, 399.0]]}, {'text': '9)PLACE OFDELIVERY', 'confidence': 0.8869724869728088, 'text_region': [[224.0, 386.0], [355.0, 386.0], [355.0, 399.0], [224.0, 399.0]]}, {'text': 'DUBAI', 'confidence': 0.9971505403518677, 'text_region': [[103.0, 408.0], [152.0, 408.0], [152.0, 426.0], [103.0, 426.0]]}, {'text': 'GUANGZHOU', 'confidence': 0.9299736022949219, 'text_region': [[268.0, 410.0], [349.0, 410.0], [349.0, 424.0], [268.0, 424.0]]}, {'text': '11)MARKS', 'confidence': 0.9352713823318481, 'text_region': [[35.0, 435.0], [93.0, 432.0], [94.0, 446.0], [35.0, 449.0]]}, {'text': 'I2)NOS.&KINDSOFPKGS', 'confidence': 0.8440258502960205, 'text_region': [[92.0, 434.0], [248.0, 434.0], [248.0, 448.0], [92.0, 448.0]]}, {'text': '13JDESCRIPTIONOFGOODS11)N.W.(kgJ', 'confidence': 0.8534145355224609, 'text_region': [[246.0, 434.0], [497.0, 434.0], [497.0, 447.0], [246.0, 447.0]]}, {'text': '15)MEAS(m3)', 'confidence': 0.9158517718315125, 'text_region': [[509.0, 434.0], [583.0, 434.0], [583.0, 448.0], [509.0, 448.0]]}, {'text': '11 XYZ,QTY,XX/500 CTN', 'confidence': 0.8780604600906372, 'text_region': [[42.0, 463.0], [187.0, 462.0], [187.0, 476.0], [42.0, 477.0]]}, {'text': '12 5GG CARTONS', 'confidence': 0.9063515663146973, 'text_region': [[43.0, 486.0], [139.0, 486.0], [139.0, 500.0], [43.0, 500.0]]}, {'text': '1110KGS/CARTON', 'confidence': 0.9296565651893616, 'text_region': [[42.0, 532.0], [147.0, 529.0], [147.0, 546.0], [42.0, 549.0]]}, {'text': '1548cmx38cm×46cm', 'confidence': 0.9316112995147705, 'text_region': [[43.0, 558.0], [194.0, 557.0], [194.0, 571.0], [43.0, 572.0]]}, {'text': '16)TOTAL NUMBER OE CONTAINERS OR PACKAGES(IN WORDS)', 'confidence': 0.9073187708854675, 'text_region': [[174.0, 650.0], [516.0, 650.0], [516.0, 663.0], [174.0, 663.0]]}, {'text': 'Five hundred Cartons', 'confidence': 0.921704113483429, 'text_region': [[277.0, 675.0], [413.0, 675.0], [413.0, 688.0], [277.0, 688.0]]}, {'text': 'FREIGHT & CHARGES', 'confidence': 0.9319505095481873, 'text_region': [[50.0, 745.0], [167.0, 745.0], [167.0, 759.0], [50.0, 759.0]]}, {'text': 'REVENUE TONS', 'confidence': 0.9274322390556335, 'text_region': [[193.0, 744.0], [276.0, 744.0], [276.0, 758.0], [193.0, 758.0]]}, {'text': 'RATE', 'confidence': 0.99470454454422, 'text_region': [[323.0, 744.0], [355.0, 744.0], [355.0, 761.0], [323.0, 761.0]]}, {'text': 'PER', 'confidence': 0.9418470859527588, 'text_region': [[431.0, 744.0], [458.0, 744.0], [458.0, 762.0], [431.0, 762.0]]}, {'text': 'PREPAID', 'confidence': 0.9961190819740295, 'text_region': [[500.0, 745.0], [551.0, 745.0], [551.0, 759.0], [500.0, 759.0]]}, {'text': 'COLLECT', 'confidence': 0.9197807312011719, 'text_region': [[579.0, 745.0], [628.0, 745.0], [628.0, 759.0], [579.0, 759.0]]}, {'text': 'FREIGHT COLIECT', 'confidence': 0.9373081922531128, 'text_region': [[73.0, 769.0], [176.0, 769.0], [176.0, 782.0], [73.0, 782.0]]}, {'text': 'PREPAID AT', 'confidence': 0.9476043581962585, 'text_region': [[72.0, 836.0], [144.0, 838.0], [144.0, 855.0], [71.0, 853.0]]}, {'text': 'PAYAELE AT', 'confidence': 0.8439782857894897, 'text_region': [[191.0, 836.0], [264.0, 838.0], [264.0, 855.0], [191.0, 853.0]]}, {'text': 'IFIPLACEAND DATE OF ISSUE', 'confidence': 0.8286650776863098, 'text_region': [[433.0, 839.0], [608.0, 839.0], [608.0, 853.0], [433.0, 853.0]]}, {'text': 'GUANGZHOU 2011-1-29', 'confidence': 0.8995677828788757, 'text_region': [[454.0, 862.0], [622.0, 862.0], [622.0, 876.0], [454.0, 876.0]]}, {'text': 'TOTAL PREPAID', 'confidence': 0.9127231240272522, 'text_region': [[65.0, 911.0], [152.0, 911.0], [152.0, 924.0], [65.0, 924.0]]}, {'text': '18)NUMBER OF ORIGINAL B(S)L', 'confidence': 0.872573733329773, 'text_region': [[194.0, 911.0], [376.0, 911.0], [376.0, 924.0], [194.0, 924.0]]}], 'img_idx': 0}\n"
     ]
    }
   ],
   "source": [
    "res=[]\n",
    "for i in range(1,2):\n",
    "    remove_shuiyin('./img/{}.jpg'.format(str(i)))\n",
    "    res0=BanMian('./img/{}.jpg'.format(str(i)))\n",
    "    res.append(res0)"
   ],
   "metadata": {
    "collapsed": false,
    "pycharm": {
     "name": "#%%\n"
    },
    "ExecuteTime": {
     "end_time": "2023-10-24T04:40:58.325882200Z",
     "start_time": "2023-10-24T04:40:41.432289700Z"
    }
   }
  },
  {
   "cell_type": "code",
   "execution_count": 17,
   "outputs": [
    {
     "data": {
      "text/plain": "[[[28, 47, 663, 976]]]"
     },
     "execution_count": 17,
     "metadata": {},
     "output_type": "execute_result"
    }
   ],
   "source": [
    "res"
   ],
   "metadata": {
    "collapsed": false,
    "pycharm": {
     "name": "#%%\n"
    },
    "ExecuteTime": {
     "end_time": "2023-10-24T04:40:59.662047800Z",
     "start_time": "2023-10-24T04:40:59.622009Z"
    }
   }
  },
  {
   "cell_type": "code",
   "execution_count": 18,
   "outputs": [],
   "source": [
    "for i in range(len(res)):\n",
    "    res[i].sort(key=lambda x:(x[1]+x[0]))\n",
    "##这一步很关键"
   ],
   "metadata": {
    "collapsed": false,
    "pycharm": {
     "name": "#%%\n"
    },
    "ExecuteTime": {
     "end_time": "2023-10-24T04:41:00.758586300Z",
     "start_time": "2023-10-24T04:41:00.735592200Z"
    }
   }
  },
  {
   "cell_type": "code",
   "execution_count": 19,
   "outputs": [],
   "source": [
    "if os.path.exists('./part_table'):\n",
    "    pass\n",
    "else:\n",
    "    os.mkdir('./part_table')\n",
    "def cut_table(aa):\n",
    "    for i in range(len(aa)):\n",
    "        for j in range(len(aa[i])):\n",
    "            if os.path.exists('./part_table/'+str(i+1)):\n",
    "                pass\n",
    "            else:\n",
    "                os.mkdir('./part_table/'+str(i+1))\n",
    "            SavePath='./part_table/'+str(i+1)+'/'+str(j+1)+'.jpg'\n",
    "            im = Image.open('./img/'+str(i+1)+'.jpg')\n",
    "            im = im.crop((aa[i][j][0],aa[i][j][1],aa[i][j][2],aa[i][j][3]))  # 对图片进行切割 im.crop(top_x, top_y, bottom_x, bottom_y)\n",
    "            im.save(SavePath)"
   ],
   "metadata": {
    "collapsed": false,
    "pycharm": {
     "name": "#%%\n"
    },
    "ExecuteTime": {
     "end_time": "2023-10-24T04:41:02.017363800Z",
     "start_time": "2023-10-24T04:41:01.998847500Z"
    }
   }
  },
  {
   "cell_type": "code",
   "execution_count": 20,
   "outputs": [],
   "source": [
    "cut_table(res)"
   ],
   "metadata": {
    "collapsed": false,
    "pycharm": {
     "name": "#%%\n"
    },
    "ExecuteTime": {
     "end_time": "2023-10-24T04:41:03.732788800Z",
     "start_time": "2023-10-24T04:41:03.704274200Z"
    }
   }
  },
  {
   "cell_type": "code",
   "execution_count": 21,
   "outputs": [],
   "source": [
    "from paddleocr import PaddleOCR, draw_ocr\n",
    "\n",
    "def shibie(name):\n",
    "    ocr = PaddleOCR(use_angle_cls=True, lang=\"ch\")  # need to run only once to download and load model into memory\n",
    "    img_path = name\n",
    "    result = ocr.ocr(img_path, cls=True)\n",
    "    # for idx in range(len(result)):\n",
    "    #     res = result[idx]\n",
    "    #     for line in res:\n",
    "    #         print(line)\n",
    "\n",
    "    # 显示结果\n",
    "    # 如果本地没有simfang.ttf，可以在doc/fonts目录下下载\n",
    "    from PIL import Image\n",
    "    result = result[0]\n",
    "    image = Image.open(img_path).convert('RGB')\n",
    "    boxes = [line[0] for line in result]\n",
    "    txts = [line[1][0] for line in result]\n",
    "    print(txts)\n",
    "    scores = [line[1][1] for line in result]\n",
    "    allstring=\"\"\n",
    "    for i in txts:\n",
    "        allstring+=i\n",
    "    return allstring"
   ],
   "metadata": {
    "collapsed": false,
    "pycharm": {
     "name": "#%%\n"
    },
    "ExecuteTime": {
     "end_time": "2023-10-24T04:41:09.974413400Z",
     "start_time": "2023-10-24T04:41:09.933415300Z"
    }
   }
  },
  {
   "cell_type": "code",
   "execution_count": 22,
   "outputs": [
    {
     "data": {
      "text/plain": "[[[28, 47, 663, 976]]]"
     },
     "execution_count": 22,
     "metadata": {},
     "output_type": "execute_result"
    }
   ],
   "source": [
    "res"
   ],
   "metadata": {
    "collapsed": false,
    "pycharm": {
     "name": "#%%\n"
    },
    "ExecuteTime": {
     "end_time": "2023-10-24T04:41:10.907503Z",
     "start_time": "2023-10-24T04:41:10.860499800Z"
    }
   }
  },
  {
   "cell_type": "code",
   "execution_count": 23,
   "outputs": [],
   "source": [
    "ans_char=[]\n",
    "num=0\n",
    "pin_num=1\n",
    "page_lian=[]\n",
    "for i in range(len(res)):\n",
    "    for j in range(len(res[i])):\n",
    "        if j==len(res[i])-1 and i< len(res)-1:\n",
    "            this_pic=res[i][j]\n",
    "            next_pic=res[i+1][0]\n",
    "            ##最后一张表格的下边界开始裁剪，如果剩余的部分除了页码还有其他的文字，就说明肯定不会链接在一起\n",
    "            im_this=Image.open('./img/{}.jpg'.format(str(i+1)))\n",
    "            this_remain_pic=im_this.crop((this_pic[0],this_pic[3],im_this.size[0],im_this.size[1]))\n",
    "            this_remain_pic.save('test.jpg')\n",
    "            this_char=shibie('test.jpg')\n",
    "            if len(this_char)>1:\n",
    "                print(\"说明剩下的部分还有文字，说明下一页肯定不是切断的表格\")\n",
    "                now=Image.open('./part_table/'+str(i+1)+'/{}.jpg'.format(j+1))\n",
    "                now.save('./pinjie/{}.jpg'.format(pin_num))\n",
    "                pin_num+=1\n",
    "            else:\n",
    "                #这一页的表格是页面的末尾，这个时候就需要考虑下一页的头部了\n",
    "                im_next=Image.open('./img/{}.jpg'.format(str(i+2)))\n",
    "                next_remain_pic=im_next.crop((0,0,next_pic[3],next_pic[1]))\n",
    "                next_remain_pic.save('test.jpg')\n",
    "                next_char=shibie('test.jpg')\n",
    "                if len(next_char) >=2:\n",
    "                    now=Image.open('./part_table/'+str(i+1)+'/{}.jpg'.format(j+1))\n",
    "                    now.save('./pinjie/{}.jpg'.format(pin_num))\n",
    "                    pin_num+=1\n",
    "                    print('说明下一页肯定不是切断的表格，因为之前还有文字')\n",
    "                else:\n",
    "                    #这样的话，多半就能判断下一页和上一页是同一个表格了，因此可以将二者合并\n",
    "                    #那要如何合并呢？暂时先不管共同表头合并试试，之后再删除共同表头\n",
    "                    page_lian.append(i+1)\n",
    "                    this_pic_old_path='./part_table/'+str(i+1)+'/{}.jpg'.format(str(j+1))\n",
    "                    next_pic_old_path='./part_table/'+str(i+2)+'/1.jpg'\n",
    "                    img1 = Image.open(this_pic_old_path)\n",
    "                    img2 = Image.open(next_pic_old_path)\n",
    "                    result = Image.new(img1.mode, (img1.size[0],img1.size[1]+img2.size[1]))\n",
    "                    result.paste(img1, box=(0, 0))\n",
    "                    result.paste(img2, box=(0,img1.size[1]))\n",
    "                    result.save(\"./pinjie/{}.jpg\".format(str(pin_num)))\n",
    "                    pin_num+=1"
   ],
   "metadata": {
    "collapsed": false,
    "pycharm": {
     "name": "#%%\n"
    },
    "ExecuteTime": {
     "end_time": "2023-10-24T04:41:11.432276900Z",
     "start_time": "2023-10-24T04:41:11.392744700Z"
    }
   }
  },
  {
   "cell_type": "code",
   "execution_count": 23,
   "outputs": [],
   "source": [],
   "metadata": {
    "collapsed": false,
    "pycharm": {
     "name": "#%%\n"
    },
    "ExecuteTime": {
     "end_time": "2023-10-24T04:41:12.475732300Z",
     "start_time": "2023-10-24T04:41:12.450728100Z"
    }
   }
  },
  {
   "cell_type": "code",
   "execution_count": 24,
   "outputs": [
    {
     "name": "stderr",
     "output_type": "stream",
     "text": [
      "2023-10-24 12:41:13,618 - modelscope - INFO - Model revision not specified, use revision: v0.1\n",
      "2023-10-24 12:41:14,666 - modelscope - INFO - initiate model from C:\\Users\\97885\\.cache\\modelscope\\hub\\damo\\cv_dla34_table-structure-recognition_cycle-centernet\n",
      "2023-10-24 12:41:14,667 - modelscope - INFO - initiate model from location C:\\Users\\97885\\.cache\\modelscope\\hub\\damo\\cv_dla34_table-structure-recognition_cycle-centernet.\n",
      "2023-10-24 12:41:14,681 - modelscope - WARNING - No preprocessor field found in cfg.\n",
      "2023-10-24 12:41:14,682 - modelscope - WARNING - No val key and type key found in preprocessor domain of configuration.json file.\n",
      "2023-10-24 12:41:14,683 - modelscope - WARNING - Cannot find available config to build preprocessor at mode inference, current config: {'model_dir': 'C:\\\\Users\\\\97885\\\\.cache\\\\modelscope\\\\hub\\\\damo\\\\cv_dla34_table-structure-recognition_cycle-centernet'}. trying to build by task and model information.\n",
      "2023-10-24 12:41:14,684 - modelscope - WARNING - Find task: table-recognition, model type: None. Insufficient information to build preprocessor, skip building preprocessor\n",
      "2023-10-24 12:41:14,690 - modelscope - INFO - loading model from C:\\Users\\97885\\.cache\\modelscope\\hub\\damo\\cv_dla34_table-structure-recognition_cycle-centernet\\pytorch_model.pt\n"
     ]
    }
   ],
   "source": [
    "from modelscope.pipelines import pipeline\n",
    "from modelscope.utils.constant import Tasks\n",
    "table_recognition = pipeline(Tasks.table_recognition, model='damo/cv_dla34_table-structure-recognition_cycle-centernet')"
   ],
   "metadata": {
    "collapsed": false,
    "pycharm": {
     "name": "#%%\n"
    },
    "ExecuteTime": {
     "end_time": "2023-10-24T04:41:15.290420900Z",
     "start_time": "2023-10-24T04:41:12.916243700Z"
    }
   }
  },
  {
   "cell_type": "code",
   "execution_count": 25,
   "outputs": [],
   "source": [
    "cut_table(res)\n",
    "location1=[]\n",
    "location2=[]\n",
    "pin_num=1\n",
    "for i in range(len(res)):\n",
    "    for j in range(len(res[i])):\n",
    "        path='./part_table/{}/'.format(str(i+1))+'{}.jpg'.format(str(j+1))\n",
    "\n",
    "        if  j==len(res[i])-1 and page_lian.count(i+1)!=0:\n",
    "\n",
    "            next_path='./part_table/{}/1.jpg'.format(str(i+2))\n",
    "\n",
    "            if page_lian.count(i)!=0 and len(res[i])==1:\n",
    "                img1=Image.open(path)\n",
    "                img2=Image.open(next_path)\n",
    "                result = Image.new(img1.mode, (img1.size[0],img1.size[1]+img2.size[1]))\n",
    "                result.paste(img1, box=(0, 0))\n",
    "                result.paste(img2, box=(0,img1.size[1]))\n",
    "                if len(res[i + 1])==1:\n",
    "                    result.save(next_path)\n",
    "                else:\n",
    "                    result.save(\"./pinjie_removehead/{}.jpg\".format(str(pin_num)))\n",
    "                    pin_num+=1\n",
    "                continue\n",
    "\n",
    "            result1 = table_recognition(path)\n",
    "            #就说明，这一张表后面还跟着一张表\n",
    "            result2 = table_recognition(next_path)\n",
    "            #然后对两个表识别出来的结果，如果有公共表头，则删去第二张表的公共表头\n",
    "            #这里还没有写完，由于modelscope效果不好\n",
    "            after_res=[]\n",
    "            for k in result1['polygons']:\n",
    "                #print(k)\n",
    "                if abs(k[0]-k[4])<10:\n",
    "                    continue\n",
    "                temp=[int(k[0]),int(k[1]),int(k[4]),int(k[5])]\n",
    "                after_res.append(temp)\n",
    "            location1.append(after_res)\n",
    "            after_res=[]\n",
    "            for k in result2['polygons']:\n",
    "                #print(k)\n",
    "                if abs(k[0]-k[4])<10:\n",
    "                    continue\n",
    "                temp=[int(k[0]),int(k[1]),int(k[4]),int(k[5])]\n",
    "                after_res.append(temp)\n",
    "            location2.append(after_res)\n",
    "            location1[0].sort(key=lambda x:(x[1]+x[0]))\n",
    "            location2[0].sort(key=lambda x:(x[1]+x[0]))\n",
    "            ##这里非常的美妙，按照xy之和排序，因为会有一到二的偏差，如果按x再按y排序的话，还会有几率后面的到前面来\n",
    "\n",
    "            res1_first=location1[0][0]\n",
    "            res2_first=location2[0][0]\n",
    "            img1=Image.open(path)\n",
    "            img2=Image.open(next_path)\n",
    "            img1_first=img1.crop(res1_first)\n",
    "            img2_first=img2.crop(res2_first)\n",
    "            img1_first.save(\"./temp1.jpg\")\n",
    "            img2_first.save(\"./temp2.jpg\")\n",
    "            string1=shibie(\"./temp1.jpg\")\n",
    "            string2=shibie(\"./temp2.jpg\")\n",
    "            os.remove(\"./temp1.jpg\")\n",
    "            os.remove(\"./temp2.jpg\")\n",
    "            if string1!=\"\" and string2==string1:\n",
    "                ##这个时候两个表头就是相同的\n",
    "                print(string1,string2)\n",
    "                print(\"yes!\")\n",
    "                ##开始裁剪第二张表格的表头\n",
    "                img2_cut=img2.crop((res2_first[0],res2_first[3],img2.size[0],img2.size[1]))\n",
    "                #img2_cut.save('./test.jpg')\n",
    "                result = Image.new(img1.mode, (img1.size[0],img1.size[1]+img2_cut.size[1]))\n",
    "                result.paste(img1, box=(0, 0))\n",
    "                result.paste(img2_cut, box=(0,img1.size[1]))\n",
    "            else:\n",
    "                ##这个时候表格是不相同的，因此直接拼接即可\n",
    "                result = Image.new(img1.mode, (img1.size[0],img1.size[1]+img2.size[1]))\n",
    "                result.paste(img1, box=(0, 0))\n",
    "                result.paste(img2, box=(0,img1.size[1]))\n",
    "            if len(res[i + 1])==1 and page_lian.count(i+2)!=0:\n",
    "                result.save(next_path)\n",
    "            else:\n",
    "                result.save(\"./pinjie_removehead/{}.jpg\".format(str(pin_num)))\n",
    "                pin_num+=1\n",
    "        else:\n",
    "            if j!=0 or page_lian.count(i)==0:\n",
    "                result1=Image.open(path)\n",
    "                result1.save(\"./pinjie_removehead/{}.jpg\".format(str(pin_num)))\n",
    "                pin_num+=1"
   ],
   "metadata": {
    "collapsed": false,
    "pycharm": {
     "name": "#%%\n"
    },
    "ExecuteTime": {
     "end_time": "2023-10-24T04:41:15.933009900Z",
     "start_time": "2023-10-24T04:41:15.877484Z"
    }
   }
  },
  {
   "cell_type": "code",
   "execution_count": 60,
   "outputs": [
    {
     "data": {
      "text/plain": "[[[176, 373, 1310, 1534]],\n [[165, 487, 1934, 714], [163, 906, 1935, 1296]],\n [[172, 177, 1933, 1044]],\n [[167, 216, 1937, 896], [168, 1093, 1934, 1282]],\n [[171, 177, 1932, 1187]],\n [[167, 348, 1935, 1275]],\n [[171, 178, 1930, 628]]]"
     },
     "execution_count": 60,
     "metadata": {},
     "output_type": "execute_result"
    }
   ],
   "source": [
    "##下面是测试阿里云单元格识别的效果，发现效果不好，因为单元格太复杂"
   ],
   "metadata": {
    "collapsed": false,
    "pycharm": {
     "name": "#%%\n"
    }
   }
  },
  {
   "cell_type": "code",
   "execution_count": 13,
   "outputs": [
    {
     "ename": "IndexError",
     "evalue": "list index out of range",
     "output_type": "error",
     "traceback": [
      "\u001B[1;31m---------------------------------------------------------------------------\u001B[0m",
      "\u001B[1;31mIndexError\u001B[0m                                Traceback (most recent call last)",
      "Cell \u001B[1;32mIn[13], line 1\u001B[0m\n\u001B[1;32m----> 1\u001B[0m \u001B[43mlocation1\u001B[49m\u001B[43m[\u001B[49m\u001B[38;5;241;43m0\u001B[39;49m\u001B[43m]\u001B[49m[\u001B[38;5;241m0\u001B[39m]\n\u001B[0;32m      2\u001B[0m location2\n",
      "\u001B[1;31mIndexError\u001B[0m: list index out of range"
     ]
    }
   ],
   "source": [
    "location1[0][0]\n",
    "location2"
   ],
   "metadata": {
    "collapsed": false,
    "pycharm": {
     "name": "#%%\n"
    },
    "ExecuteTime": {
     "end_time": "2023-10-24T04:39:18.115368200Z",
     "start_time": "2023-10-24T04:39:17.867884300Z"
    }
   }
  },
  {
   "cell_type": "code",
   "execution_count": 13,
   "outputs": [
    {
     "name": "stdout",
     "output_type": "stream",
     "text": [
      "{'polygons': array([[ 614.5574   ,    6.077574 ,  615.3407   ,  112.75558  ,\n",
      "         792.88275  ,  113.04138  ,  791.4493   ,    6.301593 ],\n",
      "       [ 316.72974  ,    6.3138447,  317.04727  ,  111.17699  ,\n",
      "         438.00092  ,  112.657616 ,  438.01163  ,    6.3396688],\n",
      "       [ 197.1007   ,    6.2216387,  197.4126   ,  111.244316 ,\n",
      "         317.04727  ,  111.17699  ,  316.72974  ,    6.3138447],\n",
      "       [  75.49791  ,    6.2870703,   76.66031  ,  111.13442  ,\n",
      "         197.4126   ,  111.244316 ,  197.1007   ,    6.2216387],\n",
      "       [  12.134846 ,  186.09613  ,   11.374354 ,  346.73352  ,\n",
      "         241.38869  ,  267.6405   ,  241.37798  ,  227.23273  ],\n",
      "       [ 949.32117  ,  227.4577   ,  949.3145   ,  267.9129   ,\n",
      "        1109.368    ,  267.99316  , 1109.4198   ,  227.44386  ],\n",
      "       [ 791.06976  ,  227.67569  ,  791.11456  ,  268.14398  ,\n",
      "         949.3145   ,  267.9129   ,  949.32117  ,  227.4577   ],\n",
      "       [ 951.6336   ,   44.7552   ,  952.01776  ,  112.95974  ,\n",
      "        1111.535    ,  113.046135 , 1110.7782   ,   45.2599   ],\n",
      "       [1429.3297   ,  227.35545  , 1429.4061   ,  267.94153  ,\n",
      "        1590.3453   ,  267.80643  , 1590.4557   ,  227.44249  ],\n",
      "       [1109.4198   ,  227.44386  , 1109.368    ,  267.99316  ,\n",
      "        1268.574    ,  267.86548  , 1268.523    ,  227.31416  ],\n",
      "       [ 949.3145   ,  267.9129   ,  949.3404   ,  307.45532  ,\n",
      "        1109.3656   ,  307.6617   , 1109.368    ,  267.99316  ],\n",
      "       [ 438.01163  ,    6.3396688,  438.00092  ,  112.657616 ,\n",
      "         615.3407   ,  112.75558  ,  614.5574   ,    6.077574 ],\n",
      "       [ 791.11456  ,  268.14398  ,  791.1365   ,  307.85162  ,\n",
      "         949.3404   ,  307.45532  ,  949.3145   ,  267.9129   ],\n",
      "       [1590.4557   ,  227.44249  , 1590.3453   ,  267.80643  ,\n",
      "        1765.0642   ,  268.24823  , 1765.0397   ,  227.74625  ],\n",
      "       [1109.368    ,  267.99316  , 1109.3656   ,  307.6617   ,\n",
      "        1268.4973   ,  307.51996  , 1268.574    ,  267.86548  ],\n",
      "       [  11.995737 ,    6.209915 ,   11.588057 ,  111.53731  ,\n",
      "          76.66031  ,  111.13442  ,   75.49791  ,    6.2870703],\n",
      "       [1590.3453   ,  267.80643  , 1590.3257   ,  307.47137  ,\n",
      "        1765.0881   ,  307.5015   , 1765.0642   ,  268.24823  ],\n",
      "       [ 792.6339   ,   43.69673  ,  792.88275  ,  113.04138  ,\n",
      "         952.01776  ,  112.95974  ,  951.6336   ,   44.7552   ],\n",
      "       [ 791.1365   ,  307.85162  ,  790.9196   ,  348.77756  ,\n",
      "         949.8426   ,  348.70584  ,  949.3404   ,  307.45532  ],\n",
      "       [1429.4061   ,  267.94153  , 1429.4076   ,  307.55716  ,\n",
      "        1590.3257   ,  307.47137  , 1590.3453   ,  267.80643  ],\n",
      "       [1430.4302   ,   43.993523 , 1430.7112   ,  111.2495   ,\n",
      "        1590.0259   ,  111.19267  , 1589.5138   ,   44.398838 ],\n",
      "       [1269.9686   ,   44.566772 , 1270.7402   ,  112.928154 ,\n",
      "        1430.7112   ,  111.2495   , 1430.4302   ,   43.993523 ],\n",
      "       [1590.2928   ,  186.32416  , 1590.4557   ,  227.44249  ,\n",
      "        1765.0397   ,  227.74625  , 1765.1326   ,  185.97916  ],\n",
      "       [1590.2185   ,    6.4516783, 1590.0259   ,  111.19267  ,\n",
      "        1765.0922   ,  113.290276 , 1765.1257   ,    6.13445  ],\n",
      "       [1268.523    ,  227.31416  , 1268.574    ,  267.86548  ,\n",
      "        1429.4061   ,  267.94153  , 1429.3297   ,  227.35545  ],\n",
      "       [1110.7782   ,   45.2599   , 1111.535    ,  113.046135 ,\n",
      "        1270.7402   ,  112.928154 , 1269.9686   ,   44.566772 ],\n",
      "       [1429.4501   ,  186.40253  , 1429.3297   ,  227.35545  ,\n",
      "        1590.4557   ,  227.44249  , 1590.2928   ,  186.32416  ],\n",
      "       [1268.574    ,  267.86548  , 1268.4973   ,  307.51996  ,\n",
      "        1429.4076   ,  307.55716  , 1429.4061   ,  267.94153  ],\n",
      "       [ 790.9996   ,  186.5525   ,  791.06976  ,  227.67569  ,\n",
      "         949.32117  ,  227.4577   ,  949.3982   ,  186.76866  ],\n",
      "       [1590.3257   ,  307.47137  , 1590.4203   ,  347.9609   ,\n",
      "        1765.0911   ,  346.3818   , 1765.0881   ,  307.5015   ],\n",
      "       [1268.4574   ,  186.51581  , 1268.523    ,  227.31416  ,\n",
      "        1429.3297   ,  227.35545  , 1429.4501   ,  186.40253  ],\n",
      "       [1109.3656   ,  307.6617   , 1109.3171   ,  348.69687  ,\n",
      "        1268.715    ,  347.98013  , 1268.4973   ,  307.51996  ],\n",
      "       [ 949.3404   ,  307.45532  ,  949.8426   ,  348.70584  ,\n",
      "        1109.3171   ,  348.69687  , 1109.3656   ,  307.6617   ],\n",
      "       [ 949.3982   ,  186.76866  ,  949.32117  ,  227.4577   ,\n",
      "        1109.4198   ,  227.44386  , 1108.8859   ,  187.15047  ],\n",
      "       [1429.4076   ,  307.55716  , 1429.724    ,  348.07318  ,\n",
      "        1590.4203   ,  347.9609   , 1590.3257   ,  307.47137  ],\n",
      "       [1108.8859   ,  187.15047  , 1109.4198   ,  227.44386  ,\n",
      "        1268.523    ,  227.31416  , 1268.4574   ,  186.51581  ],\n",
      "       [ 241.37798  ,  227.23273  ,  241.38869  ,  267.6405   ,\n",
      "         791.11456  ,  268.14398  ,  791.06976  ,  227.67569  ],\n",
      "       [1268.4973   ,  307.51996  , 1268.715    ,  347.98013  ,\n",
      "        1429.724    ,  348.07318  , 1429.4076   ,  307.55716  ],\n",
      "       [ 241.38869  ,  267.6405   ,  242.77223  ,  307.32214  ,\n",
      "         791.1365   ,  307.85162  ,  791.11456  ,  268.14398  ],\n",
      "       [  12.134846 ,  186.09613  ,  241.37798  ,  227.23273  ,\n",
      "         791.06976  ,  227.67569  ,  790.9996   ,  186.5525   ]],\n",
      "      dtype=float32)}\n"
     ]
    }
   ],
   "source": [
    "location=[]\n",
    "path='./part_table/2/2.jpg'\n",
    "result = table_recognition(path)\n",
    "after_res=[]\n",
    "print(result)\n",
    "for k in result['polygons']:\n",
    "    #print(k)\n",
    "    if abs(k[0]-k[4])<5:\n",
    "        continue\n",
    "    temp=[int(k[0]),int(k[1]),int(k[4]),int(k[5])]\n",
    "    after_res.append(temp)\n",
    "location.append(after_res)"
   ],
   "metadata": {
    "collapsed": false,
    "pycharm": {
     "name": "#%%\n"
    }
   }
  },
  {
   "cell_type": "code",
   "execution_count": 14,
   "outputs": [],
   "source": [
    "location[0].sort(key=lambda x:(x[1],x[0]))"
   ],
   "metadata": {
    "collapsed": false,
    "pycharm": {
     "name": "#%%\n"
    }
   }
  },
  {
   "cell_type": "code",
   "execution_count": 15,
   "outputs": [
    {
     "data": {
      "text/plain": "40"
     },
     "execution_count": 15,
     "metadata": {},
     "output_type": "execute_result"
    }
   ],
   "source": [
    "len(location[0])"
   ],
   "metadata": {
    "collapsed": false,
    "pycharm": {
     "name": "#%%\n"
    }
   }
  },
  {
   "cell_type": "code",
   "execution_count": 17,
   "outputs": [],
   "source": [
    "from PIL import ImageDraw\n",
    "\n",
    "# num=1\n",
    "# for i in range(len(location[0])):\n",
    "#     im=Image.open(path)\n",
    "#     img=im.crop((location[0][i][0],location[0][i][1],location[0][i][2],location[0][i][3]))\n",
    "#     img.save('./temp/{}.jpg'.format(str(num)))\n",
    "#     num+=1\n",
    "im=Image.open(path)\n",
    "a=ImageDraw.ImageDraw(im)\n",
    "for i in range(len(location[0])):\n",
    "    a.rectangle(((location[0][i][0],location[0][i][1]),(location[0][i][2],location[0][i][3])),fill=None,outline=\"red\",width=2)\n",
    "im.save('res.jpg')"
   ],
   "metadata": {
    "collapsed": false,
    "pycharm": {
     "name": "#%%\n"
    }
   }
  },
  {
   "cell_type": "code",
   "execution_count": 133,
   "outputs": [
    {
     "data": {
      "text/plain": "[[[12, -1, 75, 9],\n  [70, 0, 200, 9],\n  [10, 8, 75, 111],\n  [74, 8, 195, 111],\n  [195, 8, 316, 111],\n  [316, 8, 437, 111],\n  [437, 8, 614, 112],\n  [613, 8, 791, 112],\n  [1589, 8, 1764, 112],\n  [791, 43, 950, 112],\n  [1269, 43, 1429, 112],\n  [1429, 43, 1588, 111],\n  [950, 44, 1110, 112],\n  [1109, 44, 1269, 112],\n  [10, 185, 242, 348],\n  [10, 185, 790, 228],\n  [1428, 186, 1589, 227],\n  [1589, 186, 1764, 228],\n  [790, 187, 948, 228],\n  [948, 187, 1108, 228],\n  [1108, 187, 1267, 227],\n  [1267, 187, 1428, 227],\n  [241, 227, 790, 267],\n  [1267, 227, 1428, 267],\n  [1428, 227, 1589, 267],\n  [1589, 227, 1764, 267],\n  [790, 228, 948, 267],\n  [948, 228, 1108, 267],\n  [1108, 228, 1267, 267],\n  [241, 267, 790, 307],\n  [790, 267, 948, 307],\n  [948, 267, 1108, 307],\n  [1108, 267, 1267, 307],\n  [1267, 267, 1428, 307],\n  [1428, 267, 1589, 307],\n  [1589, 267, 1764, 307],\n  [790, 307, 949, 349],\n  [948, 307, 1108, 349],\n  [1108, 307, 1267, 348],\n  [1267, 307, 1428, 348],\n  [1428, 307, 1589, 348],\n  [1589, 307, 1764, 348],\n  [1577, 380, 1759, 396],\n  [306, 382, 432, 395],\n  [9, 383, 193, 395],\n  [429, 395, 605, 499],\n  [1, 396, 67, 499],\n  [67, 396, 188, 499],\n  [189, 396, 309, 499],\n  [308, 396, 428, 499],\n  [606, 396, 782, 499],\n  [1581, 396, 1759, 499],\n  [783, 431, 941, 499],\n  [1261, 431, 1421, 499],\n  [942, 432, 1101, 499],\n  [1101, 432, 1261, 499],\n  [1421, 432, 1580, 499],\n  [3, 499, 67, 579],\n  [67, 499, 188, 579],\n  [188, 499, 309, 579],\n  [309, 499, 427, 579],\n  [428, 499, 605, 579],\n  [605, 499, 782, 579],\n  [782, 499, 941, 579],\n  [941, 499, 1100, 579],\n  [1101, 499, 1260, 579],\n  [1261, 499, 1420, 579],\n  [1421, 499, 1579, 579],\n  [1580, 499, 1759, 579],\n  [2, 579, 67, 658],\n  [67, 579, 188, 658],\n  [188, 579, 309, 658],\n  [309, 579, 427, 658],\n  [427, 579, 605, 658],\n  [605, 579, 782, 658],\n  [782, 579, 941, 658],\n  [941, 579, 1100, 658],\n  [1100, 579, 1260, 658],\n  [1260, 579, 1420, 658],\n  [1420, 579, 1579, 658],\n  [1579, 579, 1759, 659],\n  [2, 658, 67, 737],\n  [67, 658, 188, 737],\n  [188, 658, 309, 737],\n  [309, 658, 427, 737],\n  [427, 658, 605, 737],\n  [605, 658, 782, 737],\n  [782, 658, 941, 737],\n  [941, 658, 1100, 737],\n  [1100, 658, 1260, 737],\n  [1260, 658, 1420, 737],\n  [1420, 658, 1579, 737],\n  [1579, 658, 1759, 737],\n  [2, 737, 67, 817],\n  [67, 737, 188, 817],\n  [188, 737, 309, 817],\n  [309, 737, 427, 817],\n  [427, 737, 605, 817],\n  [605, 737, 782, 817],\n  [782, 737, 941, 817],\n  [941, 737, 1100, 817],\n  [1100, 737, 1260, 817],\n  [1260, 737, 1420, 817],\n  [1420, 737, 1579, 817],\n  [1579, 737, 1759, 818],\n  [2, 817, 67, 896],\n  [67, 817, 188, 896],\n  [188, 817, 309, 896],\n  [309, 817, 427, 895],\n  [427, 817, 605, 896],\n  [605, 817, 782, 896],\n  [782, 817, 941, 895],\n  [941, 817, 1100, 895],\n  [1100, 817, 1259, 896],\n  [1260, 817, 1420, 895],\n  [1420, 817, 1580, 895],\n  [1579, 817, 1759, 896],\n  [941, 895, 1100, 936],\n  [1100, 895, 1259, 936],\n  [1420, 895, 1580, 937],\n  [1580, 895, 1758, 937],\n  [3, 896, 233, 1057],\n  [233, 896, 782, 937],\n  [782, 896, 940, 936],\n  [1259, 896, 1420, 936],\n  [233, 936, 782, 976],\n  [940, 936, 1099, 976],\n  [1100, 936, 1259, 976],\n  [1259, 936, 1420, 976],\n  [1420, 936, 1580, 976],\n  [782, 937, 940, 976],\n  [1580, 937, 1759, 977],\n  [233, 976, 782, 1017],\n  [782, 976, 940, 1017],\n  [940, 976, 1100, 1016],\n  [1099, 976, 1259, 1016],\n  [1259, 976, 1420, 1016],\n  [1420, 976, 1580, 1015],\n  [1580, 976, 1759, 1017],\n  [233, 1015, 782, 1057],\n  [1580, 1015, 1758, 1056],\n  [1100, 1016, 1259, 1057],\n  [1259, 1016, 1420, 1057],\n  [1420, 1016, 1580, 1057],\n  [782, 1017, 940, 1057],\n  [940, 1017, 1099, 1058],\n  [1578, 1056, 1761, 1092],\n  [257, 1057, 772, 1091],\n  [1, 1093, 233, 1254],\n  [233, 1093, 782, 1132],\n  [781, 1093, 940, 1132],\n  [1099, 1093, 1259, 1132],\n  [1259, 1093, 1420, 1132],\n  [1419, 1093, 1580, 1132],\n  [1580, 1093, 1758, 1132],\n  [940, 1094, 1100, 1132],\n  [233, 1132, 782, 1173],\n  [782, 1132, 940, 1173],\n  [940, 1132, 1100, 1173],\n  [1100, 1132, 1259, 1173],\n  [1259, 1132, 1420, 1173],\n  [1420, 1132, 1580, 1173],\n  [1580, 1132, 1758, 1173],\n  [233, 1173, 782, 1213],\n  [782, 1173, 940, 1213],\n  [940, 1173, 1099, 1213],\n  [1100, 1173, 1259, 1213],\n  [1259, 1173, 1420, 1213],\n  [1420, 1173, 1580, 1213],\n  [1580, 1173, 1759, 1214],\n  [233, 1213, 781, 1254],\n  [782, 1213, 939, 1254],\n  [940, 1213, 1099, 1254],\n  [1099, 1213, 1259, 1254],\n  [1259, 1213, 1420, 1254],\n  [1420, 1213, 1580, 1254],\n  [1580, 1213, 1759, 1256],\n  [777, 1251, 943, 1260],\n  [935, 1251, 1103, 1260],\n  [1094, 1252, 1263, 1260],\n  [1254, 1252, 1423, 1259]]]"
     },
     "execution_count": 133,
     "metadata": {},
     "output_type": "execute_result"
    }
   ],
   "source": [
    "location"
   ],
   "metadata": {
    "collapsed": false,
    "pycharm": {
     "name": "#%%\n"
    }
   }
  },
  {
   "cell_type": "code",
   "execution_count": null,
   "outputs": [],
   "source": [],
   "metadata": {
    "collapsed": false,
    "pycharm": {
     "name": "#%%\n"
    }
   }
  }
 ],
 "metadata": {
  "kernelspec": {
   "display_name": "Python 3",
   "language": "python",
   "name": "python3"
  },
  "language_info": {
   "codemirror_mode": {
    "name": "ipython",
    "version": 2
   },
   "file_extension": ".py",
   "mimetype": "text/x-python",
   "name": "python",
   "nbconvert_exporter": "python",
   "pygments_lexer": "ipython2",
   "version": "2.7.6"
  }
 },
 "nbformat": 4,
 "nbformat_minor": 0
}
