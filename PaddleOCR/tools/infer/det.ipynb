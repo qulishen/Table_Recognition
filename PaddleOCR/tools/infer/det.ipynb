{
 "cells": [
  {
   "cell_type": "code",
   "execution_count": 11,
   "id": "initial_id",
   "metadata": {
    "collapsed": true,
    "ExecuteTime": {
     "end_time": "2023-10-24T02:49:23.192441400Z",
     "start_time": "2023-10-24T02:49:19.283551600Z"
    }
   },
   "outputs": [
    {
     "name": "stderr",
     "output_type": "stream",
     "text": [
      "2023-10-24 10:49:19,815 - modelscope - INFO - Model revision not specified, use revision: v0.1\n",
      "2023-10-24 10:49:21,907 - modelscope - INFO - initiate model from C:\\Users\\97885\\.cache\\modelscope\\hub\\damo\\cv_dla34_table-structure-recognition_cycle-centernet\n",
      "2023-10-24 10:49:21,908 - modelscope - INFO - initiate model from location C:\\Users\\97885\\.cache\\modelscope\\hub\\damo\\cv_dla34_table-structure-recognition_cycle-centernet.\n",
      "2023-10-24 10:49:21,918 - modelscope - WARNING - No preprocessor field found in cfg.\n",
      "2023-10-24 10:49:21,921 - modelscope - WARNING - No val key and type key found in preprocessor domain of configuration.json file.\n",
      "2023-10-24 10:49:21,921 - modelscope - WARNING - Cannot find available config to build preprocessor at mode inference, current config: {'model_dir': 'C:\\\\Users\\\\97885\\\\.cache\\\\modelscope\\\\hub\\\\damo\\\\cv_dla34_table-structure-recognition_cycle-centernet'}. trying to build by task and model information.\n",
      "2023-10-24 10:49:21,922 - modelscope - WARNING - Find task: table-recognition, model type: None. Insufficient information to build preprocessor, skip building preprocessor\n",
      "2023-10-24 10:49:21,926 - modelscope - INFO - loading model from C:\\Users\\97885\\.cache\\modelscope\\hub\\damo\\cv_dla34_table-structure-recognition_cycle-centernet\\pytorch_model.pt\n"
     ]
    }
   ],
   "source": [
    "from modelscope.pipelines import pipeline\n",
    "from modelscope.utils.constant import Tasks\n",
    "table_recognition = pipeline(Tasks.table_recognition, model='damo/cv_dla34_table-structure-recognition_cycle-centernet')\n",
    "result = table_recognition('./1.jpg')"
   ]
  },
  {
   "cell_type": "code",
   "execution_count": 12,
   "outputs": [],
   "source": [
    "a=result['polygons']"
   ],
   "metadata": {
    "collapsed": false,
    "ExecuteTime": {
     "end_time": "2023-10-24T02:49:25.350747700Z",
     "start_time": "2023-10-24T02:49:25.322231700Z"
    }
   },
   "id": "b4de53a63b5fd83a"
  },
  {
   "cell_type": "code",
   "execution_count": 24,
   "outputs": [],
   "source": [
    "a=result['polygons']\n",
    "\n",
    "b = []\n",
    "for i in range(len(a)):\n",
    "    temp = []\n",
    "    temp.append([int(a[i][0]), int(a[i][1])])\n",
    "    temp.append([int(a[i][6]), int(a[i][7])])\n",
    "    temp.append([int(a[i][4]), int(a[i][5])])\n",
    "    temp.append([int(a[i][2]), int(a[i][3])])\n",
    "    b.append(temp)"
   ],
   "metadata": {
    "collapsed": false,
    "ExecuteTime": {
     "end_time": "2023-10-24T03:03:17.266948200Z",
     "start_time": "2023-10-24T03:03:17.261202100Z"
    }
   },
   "id": "fb20d4d9f191756d"
  },
  {
   "cell_type": "code",
   "execution_count": 25,
   "outputs": [],
   "source": [
    "import numpy as np\n",
    "b= np.array(b)"
   ],
   "metadata": {
    "collapsed": false,
    "ExecuteTime": {
     "end_time": "2023-10-24T03:03:17.581351200Z",
     "start_time": "2023-10-24T03:03:17.568354700Z"
    }
   },
   "id": "c099c89940f3373f"
  },
  {
   "cell_type": "code",
   "execution_count": 28,
   "outputs": [
    {
     "name": "stdout",
     "output_type": "stream",
     "text": [
      "[[[ 29 833]\n",
      "  [187 834]\n",
      "  [186 904]\n",
      "  [ 29 905]]\n",
      "\n",
      " [[187 715]\n",
      "  [317 715]\n",
      "  [317 833]\n",
      "  [187 834]]\n",
      "\n",
      " [[218 332]\n",
      "  [408 333]\n",
      "  [407 380]\n",
      "  [218 380]]\n",
      "\n",
      " [[317 715]\n",
      "  [425 716]\n",
      "  [425 834]\n",
      "  [317 833]]\n",
      "\n",
      " [[425 834]\n",
      "  [662 833]\n",
      "  [662 904]\n",
      "  [425 904]]\n",
      "\n",
      " [[218 380]\n",
      "  [407 380]\n",
      "  [408 428]\n",
      "  [219 428]]\n",
      "\n",
      " [[425 716]\n",
      "  [494 715]\n",
      "  [494 833]\n",
      "  [425 834]]\n",
      "\n",
      " [[ 29 380]\n",
      "  [218 380]\n",
      "  [219 428]\n",
      "  [ 29 427]]\n",
      "\n",
      " [[ 29 332]\n",
      "  [218 332]\n",
      "  [218 380]\n",
      "  [ 29 380]]\n",
      "\n",
      " [[ 29 119]\n",
      "  [408 119]\n",
      "  [408 214]\n",
      "  [ 29 214]]\n",
      "\n",
      " [[218 286]\n",
      "  [408 286]\n",
      "  [408 333]\n",
      "  [218 332]]\n",
      "\n",
      " [[ 29  50]\n",
      "  [408  49]\n",
      "  [408 119]\n",
      "  [ 29 119]]\n",
      "\n",
      " [[ 29 905]\n",
      "  [186 904]\n",
      "  [186 951]\n",
      "  [ 29 951]]\n",
      "\n",
      " [[ 29 715]\n",
      "  [187 715]\n",
      "  [187 834]\n",
      "  [ 29 833]]\n",
      "\n",
      " [[425 904]\n",
      "  [662 904]\n",
      "  [662 951]\n",
      "  [425 951]]\n",
      "\n",
      " [[ 29 286]\n",
      "  [218 286]\n",
      "  [218 332]\n",
      "  [ 29 332]]\n",
      "\n",
      " [[494 715]\n",
      "  [571 715]\n",
      "  [571 833]\n",
      "  [494 833]]\n",
      "\n",
      " [[186 904]\n",
      "  [425 904]\n",
      "  [425 951]\n",
      "  [186 951]]\n",
      "\n",
      " [[187 834]\n",
      "  [425 834]\n",
      "  [425 904]\n",
      "  [186 904]]\n",
      "\n",
      " [[ 29 214]\n",
      "  [408 214]\n",
      "  [408 286]\n",
      "  [ 29 286]]\n",
      "\n",
      " [[425 951]\n",
      "  [662 951]\n",
      "  [663 976]\n",
      "  [425 976]]\n",
      "\n",
      " [[571 715]\n",
      "  [662 715]\n",
      "  [662 833]\n",
      "  [571 833]]\n",
      "\n",
      " [[ 29 427]\n",
      "  [662 427]\n",
      "  [662 456]\n",
      "  [ 29 456]]\n",
      "\n",
      " [[ 29 456]\n",
      "  [662 456]\n",
      "  [662 644]\n",
      "  [ 29 644]]]\n"
     ]
    }
   ],
   "source": [
    "print(b)"
   ],
   "metadata": {
    "collapsed": false,
    "ExecuteTime": {
     "end_time": "2023-10-24T03:19:32.077758500Z",
     "start_time": "2023-10-24T03:19:32.066517800Z"
    }
   },
   "id": "21c5621023ff7a00"
  },
  {
   "cell_type": "code",
   "execution_count": null,
   "outputs": [],
   "source": [],
   "metadata": {
    "collapsed": false
   },
   "id": "b1c2d9eb2150e32b"
  }
 ],
 "metadata": {
  "kernelspec": {
   "display_name": "Python 3",
   "language": "python",
   "name": "python3"
  },
  "language_info": {
   "codemirror_mode": {
    "name": "ipython",
    "version": 2
   },
   "file_extension": ".py",
   "mimetype": "text/x-python",
   "name": "python",
   "nbconvert_exporter": "python",
   "pygments_lexer": "ipython2",
   "version": "2.7.6"
  }
 },
 "nbformat": 4,
 "nbformat_minor": 5
}
