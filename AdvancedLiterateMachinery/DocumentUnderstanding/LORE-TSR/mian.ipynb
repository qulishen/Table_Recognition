{
 "cells": [
  {
   "cell_type": "code",
   "execution_count": 1,
   "metadata": {
    "collapsed": true,
    "pycharm": {
     "name": "#%%\n"
    }
   },
   "outputs": [
    {
     "name": "stderr",
     "output_type": "stream",
     "text": [
      "Traceback (most recent call last):\n",
      "  File \"./src/demo.py\", line 13, in <module>\n",
      "    from detectors.detector_factory import detector_factory\n",
      "  File \"F:\\pythonProject\\punish-ocr\\AdvancedLiterateMachinery\\DocumentUnderstanding\\LORE-TSR\\src\\lib\\detectors\\detector_factory.py\", line 5, in <module>\n",
      "    from .ctdet import CtdetDetector\n",
      "  File \"F:\\pythonProject\\punish-ocr\\AdvancedLiterateMachinery\\DocumentUnderstanding\\LORE-TSR\\src\\lib\\detectors\\ctdet.py\", line 7, in <module>\n",
      "    from progress.bar import Bar\n",
      "ModuleNotFoundError: No module named 'progress'\n"
     ]
    }
   ],
   "source": [
    "!python ./src/demo.py ctdet \\\n",
    "        --dataset table \\\n",
    "        --demo ./2.jpg \\\n",
    "        --demo_name demo_wired \\\n",
    "        --debug 1 \\\n",
    "        --arch dla_34 \\\n",
    "        --K 3000 \\\n",
    "        --MK 5000 \\\n",
    "        --tsfm_layers 4 \\\n",
    "        --stacking_layers 4 \\\n",
    "        --gpus 0\\\n",
    "        --wiz_4ps \\\n",
    "        --wiz_detect \\\n",
    "        --wiz_rev \\\n",
    "        --wiz_stacking \\\n",
    "        --convert_onnx 0 \\\n",
    "        --vis_thresh_corner 0.3 \\\n",
    "        --vis_thresh 0.20 \\\n",
    "        --scores_thresh 0.2 \\\n",
    "        --nms \\\n",
    "        --demo_dir ./visualization_wired/ \\\n",
    "        --load_model ./dir_of_ckpt/ckpt_wtw/model_best.pth \\\n",
    "        --load_processor ./dir_of_ckpt/ckpt_wtw/processor_best.pth"
   ]
  },
  {
   "cell_type": "code",
   "execution_count": 5,
   "outputs": [
    {
     "name": "stdout",
     "output_type": "stream",
     "text": [
      "Looking in indexes: https://pypi.tuna.tsinghua.edu.cn/simple\n",
      "Collecting Cython==0.27.3\n",
      "  Using cached https://pypi.tuna.tsinghua.edu.cn/packages/ee/2a/c4d2cdd19c84c32d978d18e9355d1ba9982a383de87d0fcb5928553d37f4/Cython-0.27.3.tar.gz (1.8 MB)\n",
      "  Preparing metadata (setup.py): started\n",
      "  Preparing metadata (setup.py): finished with status 'done'\n",
      "Requirement already satisfied: imgaug==0.4.0 in c:\\anaconda3\\anaconda\\envs\\paddle\\lib\\site-packages (from -r requirements.txt (line 2)) (0.4.0)\n",
      "Collecting matplotlib==3.5.2\n",
      "  Using cached https://pypi.tuna.tsinghua.edu.cn/packages/2a/0d/bebf456dd3b5bb4ecd78cb1e78636f38716384529d083ed78327ba49ec83/matplotlib-3.5.2-cp38-cp38-win_amd64.whl (7.2 MB)\n",
      "Collecting numba==0.55.2\n",
      "  Using cached https://pypi.tuna.tsinghua.edu.cn/packages/a4/46/a4759a5bd7bbd09fa6b70dfca0ad55ee0fae72d48ca0febdc53b252cbfcf/numba-0.55.2-cp38-cp38-win_amd64.whl (2.4 MB)\n",
      "Collecting numpy==1.21.6\n",
      "  Using cached https://pypi.tuna.tsinghua.edu.cn/packages/48/5f/db4550e1c68206814a577ebd92c0dd082f3628fd7fc96725d44a521b0c92/numpy-1.21.6-cp38-cp38-win_amd64.whl (14.0 MB)\n",
      "Requirement already satisfied: opencv-python==4.6.0.66 in c:\\anaconda3\\anaconda\\envs\\paddle\\lib\\site-packages (from -r requirements.txt (line 6)) (4.6.0.66)\n",
      "Requirement already satisfied: Pillow==9.2.0 in c:\\anaconda3\\anaconda\\envs\\paddle\\lib\\site-packages (from -r requirements.txt (line 7)) (9.2.0)\n",
      "Collecting progress==1.6\n",
      "  Using cached https://pypi.tuna.tsinghua.edu.cn/packages/2a/68/d8412d1e0d70edf9791cbac5426dc859f4649afc22f2abbeb0d947cf70fd/progress-1.6.tar.gz (7.8 kB)\n",
      "  Preparing metadata (setup.py): started\n",
      "  Preparing metadata (setup.py): finished with status 'done'\n",
      "Collecting scipy==1.7.3\n",
      "  Using cached https://pypi.tuna.tsinghua.edu.cn/packages/b9/23/8c13a8973f5f695577f396fc2a6a920d00e91727bff173c48d03d1732a78/scipy-1.7.3-cp38-cp38-win_amd64.whl (34.2 MB)\n",
      "Collecting Shapely==1.8.2\n",
      "  Using cached https://pypi.tuna.tsinghua.edu.cn/packages/9c/7a/f515690844afdefee85d56c889f8b3d8f838424167dbe71f70260ea5b324/Shapely-1.8.2-cp38-cp38-win_amd64.whl (1.3 MB)\n",
      "Requirement already satisfied: torch==1.6.0+cu101 in c:\\anaconda3\\anaconda\\envs\\paddle\\lib\\site-packages (from -r requirements.txt (line 11)) (1.6.0+cu101)\n"
     ]
    },
    {
     "name": "stderr",
     "output_type": "stream",
     "text": [
      "WARNING: Ignoring invalid distribution -orch (c:\\anaconda3\\anaconda\\envs\\paddle\\lib\\site-packages)\n",
      "WARNING: Ignoring invalid distribution -orch (c:\\anaconda3\\anaconda\\envs\\paddle\\lib\\site-packages)\n",
      "ERROR: Could not find a version that satisfies the requirement torchvision==0.7.0 (from versions: 0.1.6, 0.1.7, 0.1.8, 0.1.9, 0.2.0, 0.2.1, 0.2.2, 0.2.2.post2, 0.2.2.post3, 0.5.0, 0.9.0, 0.9.1, 0.10.0, 0.10.1, 0.11.0, 0.11.1, 0.11.2, 0.11.3, 0.12.0, 0.13.0, 0.13.1, 0.14.0, 0.14.1, 0.15.0, 0.15.1, 0.15.2)\n",
      "ERROR: No matching distribution found for torchvision==0.7.0\n",
      "WARNING: Ignoring invalid distribution -orch (c:\\anaconda3\\anaconda\\envs\\paddle\\lib\\site-packages)\n",
      "WARNING: Ignoring invalid distribution -orch (c:\\anaconda3\\anaconda\\envs\\paddle\\lib\\site-packages)\n",
      "WARNING: Ignoring invalid distribution -orch (c:\\anaconda3\\anaconda\\envs\\paddle\\lib\\site-packages)\n"
     ]
    }
   ],
   "source": [
    "!pip install -r requirements.txt"
   ],
   "metadata": {
    "collapsed": false,
    "pycharm": {
     "name": "#%%\n"
    }
   }
  },
  {
   "cell_type": "code",
   "execution_count": 4,
   "outputs": [
    {
     "name": "stdout",
     "output_type": "stream",
     "text": [
      "Looking in indexes: https://pypi.tuna.tsinghua.edu.cn/simple\n",
      "Looking in links: https://download.pytorch.org/whl/torch_stable.html\n",
      "Collecting torch==1.6.0+cu101\n",
      "  Downloading https://download.pytorch.org/whl/cu101/torch-1.6.0%2Bcu101-cp38-cp38-win_amd64.whl (1021.6 MB)\n",
      "     ---------------------------------------- 1.0/1.0 GB ? eta 0:00:00\n",
      "Requirement already satisfied: future in c:\\anaconda3\\anaconda\\envs\\paddle\\lib\\site-packages (from torch==1.6.0+cu101) (0.18.3)\n",
      "Requirement already satisfied: numpy in c:\\anaconda3\\anaconda\\envs\\paddle\\lib\\site-packages (from torch==1.6.0+cu101) (1.23.3)\n",
      "Installing collected packages: torch\n",
      "  Attempting uninstall: torch\n",
      "    Found existing installation: torch 2.0.1+cu117\n",
      "    Uninstalling torch-2.0.1+cu117:\n",
      "      Successfully uninstalled torch-2.0.1+cu117\n"
     ]
    },
    {
     "name": "stderr",
     "output_type": "stream",
     "text": [
      "ERROR: Could not install packages due to an OSError: [WinError 5] 拒绝访问。: 'C:\\\\Anaconda3\\\\anaconda\\\\envs\\\\paddle\\\\Lib\\\\site-packages\\\\~vfuser\\\\_C.cp38-win_amd64.pyd'\n",
      "Consider using the `--user` option or check the permissions.\n",
      "\n"
     ]
    }
   ],
   "source": [
    "!pip install torch==1.6.0+cu101 -f https://download.pytorch.org/whl/torch_stable.html"
   ],
   "metadata": {
    "collapsed": false,
    "pycharm": {
     "name": "#%%\n"
    }
   }
  },
  {
   "cell_type": "code",
   "execution_count": null,
   "outputs": [],
   "source": [],
   "metadata": {
    "collapsed": false,
    "pycharm": {
     "name": "#%%\n"
    }
   }
  }
 ],
 "metadata": {
  "kernelspec": {
   "display_name": "Python 3",
   "language": "python",
   "name": "python3"
  },
  "language_info": {
   "codemirror_mode": {
    "name": "ipython",
    "version": 2
   },
   "file_extension": ".py",
   "mimetype": "text/x-python",
   "name": "python",
   "nbconvert_exporter": "python",
   "pygments_lexer": "ipython2",
   "version": "2.7.6"
  }
 },
 "nbformat": 4,
 "nbformat_minor": 0
}